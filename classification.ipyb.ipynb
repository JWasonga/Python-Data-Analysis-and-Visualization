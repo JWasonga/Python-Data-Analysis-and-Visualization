{
  "cells": [
    {
      "cell_type": "code",
      "execution_count": 5,
      "metadata": {
        "colab": {
          "base_uri": "https://localhost:8080/",
          "height": 73
        },
        "id": "jKNqeYWh1Hup",
        "outputId": "cb1a898f-9ed3-4719-881e-b256cc090ded"
      },
      "outputs": [
        {
          "ename": "ModuleNotFoundError",
          "evalue": "No module named 'google'",
          "output_type": "error",
          "traceback": [
            "\u001b[31m---------------------------------------------------------------------------\u001b[39m",
            "\u001b[31mModuleNotFoundError\u001b[39m                       Traceback (most recent call last)",
            "\u001b[36mCell\u001b[39m\u001b[36m \u001b[39m\u001b[32mIn[5]\u001b[39m\u001b[32m, line 4\u001b[39m\n\u001b[32m      1\u001b[39m \u001b[38;5;66;03m#classification problem in ML\u001b[39;00m\n\u001b[32m      2\u001b[39m \u001b[38;5;66;03m#load dataset with google collab\u001b[39;00m\n\u001b[32m----> \u001b[39m\u001b[32m4\u001b[39m \u001b[38;5;28;01mfrom\u001b[39;00m\u001b[38;5;250m \u001b[39m\u001b[34;01mgoogle\u001b[39;00m\u001b[34;01m.\u001b[39;00m\u001b[34;01mcolab\u001b[39;00m\u001b[38;5;250m \u001b[39m\u001b[38;5;28;01mimport\u001b[39;00m files\n\u001b[32m      5\u001b[39m uploaded = files.upload()\n",
            "\u001b[31mModuleNotFoundError\u001b[39m: No module named 'google'"
          ]
        }
      ],
      "source": [
        "#classification problem in ML\n",
        "#load dataset with google collab\n",
        "\n",
        "from google.colab import files\n",
        "uploaded = files.upload()"
      ]
    },
    {
      "cell_type": "code",
      "execution_count": 6,
      "metadata": {
        "colab": {
          "base_uri": "https://localhost:8080/",
          "height": 206
        },
        "id": "zP4e1ULW11Ky",
        "outputId": "38c4a7fe-476c-49d8-f0f5-685453c55cee"
      },
      "outputs": [
        {
          "data": {
            "text/html": [
              "<div>\n",
              "<style scoped>\n",
              "    .dataframe tbody tr th:only-of-type {\n",
              "        vertical-align: middle;\n",
              "    }\n",
              "\n",
              "    .dataframe tbody tr th {\n",
              "        vertical-align: top;\n",
              "    }\n",
              "\n",
              "    .dataframe thead th {\n",
              "        text-align: right;\n",
              "    }\n",
              "</style>\n",
              "<table border=\"1\" class=\"dataframe\">\n",
              "  <thead>\n",
              "    <tr style=\"text-align: right;\">\n",
              "      <th></th>\n",
              "      <th>Feature_1</th>\n",
              "      <th>Feature_2</th>\n",
              "      <th>Feature_3</th>\n",
              "      <th>Feature_4</th>\n",
              "      <th>Feature_5</th>\n",
              "      <th>Feature_6</th>\n",
              "      <th>Feature_7</th>\n",
              "      <th>Feature_8</th>\n",
              "      <th>Feature_9</th>\n",
              "      <th>Feature_10</th>\n",
              "      <th>Target</th>\n",
              "    </tr>\n",
              "  </thead>\n",
              "  <tbody>\n",
              "    <tr>\n",
              "      <th>0</th>\n",
              "      <td>2.365398</td>\n",
              "      <td>-2.405070</td>\n",
              "      <td>1.454530</td>\n",
              "      <td>0.635454</td>\n",
              "      <td>0.331485</td>\n",
              "      <td>0.255484</td>\n",
              "      <td>0.141766</td>\n",
              "      <td>-1.884458</td>\n",
              "      <td>-1.619777</td>\n",
              "      <td>0.423212</td>\n",
              "      <td>0</td>\n",
              "    </tr>\n",
              "    <tr>\n",
              "      <th>1</th>\n",
              "      <td>1.466359</td>\n",
              "      <td>1.431838</td>\n",
              "      <td>2.492688</td>\n",
              "      <td>1.662741</td>\n",
              "      <td>0.845526</td>\n",
              "      <td>2.768129</td>\n",
              "      <td>1.151220</td>\n",
              "      <td>-1.278432</td>\n",
              "      <td>-0.076903</td>\n",
              "      <td>-0.721963</td>\n",
              "      <td>0</td>\n",
              "    </tr>\n",
              "    <tr>\n",
              "      <th>2</th>\n",
              "      <td>0.818121</td>\n",
              "      <td>-0.408409</td>\n",
              "      <td>-1.230546</td>\n",
              "      <td>1.709158</td>\n",
              "      <td>1.591019</td>\n",
              "      <td>1.030478</td>\n",
              "      <td>-0.205769</td>\n",
              "      <td>0.312407</td>\n",
              "      <td>2.566689</td>\n",
              "      <td>0.889988</td>\n",
              "      <td>0</td>\n",
              "    </tr>\n",
              "    <tr>\n",
              "      <th>3</th>\n",
              "      <td>0.173130</td>\n",
              "      <td>-2.019461</td>\n",
              "      <td>-0.303312</td>\n",
              "      <td>0.222706</td>\n",
              "      <td>0.531745</td>\n",
              "      <td>-0.340094</td>\n",
              "      <td>0.186762</td>\n",
              "      <td>-3.133564</td>\n",
              "      <td>2.682247</td>\n",
              "      <td>2.633538</td>\n",
              "      <td>0</td>\n",
              "    </tr>\n",
              "    <tr>\n",
              "      <th>4</th>\n",
              "      <td>-1.075339</td>\n",
              "      <td>1.231863</td>\n",
              "      <td>-1.169158</td>\n",
              "      <td>-1.186858</td>\n",
              "      <td>-0.715022</td>\n",
              "      <td>3.330301</td>\n",
              "      <td>-1.028577</td>\n",
              "      <td>1.840620</td>\n",
              "      <td>1.002101</td>\n",
              "      <td>-1.151868</td>\n",
              "      <td>1</td>\n",
              "    </tr>\n",
              "  </tbody>\n",
              "</table>\n",
              "</div>"
            ],
            "text/plain": [
              "   Feature_1  Feature_2  Feature_3  Feature_4  Feature_5  Feature_6  \\\n",
              "0   2.365398  -2.405070   1.454530   0.635454   0.331485   0.255484   \n",
              "1   1.466359   1.431838   2.492688   1.662741   0.845526   2.768129   \n",
              "2   0.818121  -0.408409  -1.230546   1.709158   1.591019   1.030478   \n",
              "3   0.173130  -2.019461  -0.303312   0.222706   0.531745  -0.340094   \n",
              "4  -1.075339   1.231863  -1.169158  -1.186858  -0.715022   3.330301   \n",
              "\n",
              "   Feature_7  Feature_8  Feature_9  Feature_10  Target  \n",
              "0   0.141766  -1.884458  -1.619777    0.423212       0  \n",
              "1   1.151220  -1.278432  -0.076903   -0.721963       0  \n",
              "2  -0.205769   0.312407   2.566689    0.889988       0  \n",
              "3   0.186762  -3.133564   2.682247    2.633538       0  \n",
              "4  -1.028577   1.840620   1.002101   -1.151868       1  "
            ]
          },
          "execution_count": 6,
          "metadata": {},
          "output_type": "execute_result"
        }
      ],
      "source": [
        "#use pandas to load data now\n",
        "\n",
        "import pandas as pd\n",
        "\n",
        "df = pd.read_csv(\"classification_dataset.csv\")\n",
        "df.head()\n"
      ]
    },
    {
      "cell_type": "code",
      "execution_count": 7,
      "metadata": {
        "colab": {
          "base_uri": "https://localhost:8080/",
          "height": 206
        },
        "id": "kL09-bOW4SRA",
        "outputId": "457f6e72-ccaf-4e8a-e9e8-d87356236c1f"
      },
      "outputs": [
        {
          "data": {
            "text/html": [
              "<div>\n",
              "<style scoped>\n",
              "    .dataframe tbody tr th:only-of-type {\n",
              "        vertical-align: middle;\n",
              "    }\n",
              "\n",
              "    .dataframe tbody tr th {\n",
              "        vertical-align: top;\n",
              "    }\n",
              "\n",
              "    .dataframe thead th {\n",
              "        text-align: right;\n",
              "    }\n",
              "</style>\n",
              "<table border=\"1\" class=\"dataframe\">\n",
              "  <thead>\n",
              "    <tr style=\"text-align: right;\">\n",
              "      <th></th>\n",
              "      <th>Feature_1</th>\n",
              "      <th>Feature_2</th>\n",
              "      <th>Feature_3</th>\n",
              "      <th>Feature_4</th>\n",
              "      <th>Feature_5</th>\n",
              "      <th>Feature_6</th>\n",
              "      <th>Feature_7</th>\n",
              "      <th>Feature_8</th>\n",
              "      <th>Feature_9</th>\n",
              "      <th>Feature_10</th>\n",
              "      <th>Target</th>\n",
              "    </tr>\n",
              "  </thead>\n",
              "  <tbody>\n",
              "    <tr>\n",
              "      <th>0</th>\n",
              "      <td>2.365398</td>\n",
              "      <td>-2.405070</td>\n",
              "      <td>1.454530</td>\n",
              "      <td>0.635454</td>\n",
              "      <td>0.331485</td>\n",
              "      <td>0.255484</td>\n",
              "      <td>0.141766</td>\n",
              "      <td>-1.884458</td>\n",
              "      <td>-1.619777</td>\n",
              "      <td>0.423212</td>\n",
              "      <td>0</td>\n",
              "    </tr>\n",
              "    <tr>\n",
              "      <th>1</th>\n",
              "      <td>1.466359</td>\n",
              "      <td>1.431838</td>\n",
              "      <td>2.492688</td>\n",
              "      <td>1.662741</td>\n",
              "      <td>0.845526</td>\n",
              "      <td>2.768129</td>\n",
              "      <td>1.151220</td>\n",
              "      <td>-1.278432</td>\n",
              "      <td>-0.076903</td>\n",
              "      <td>-0.721963</td>\n",
              "      <td>0</td>\n",
              "    </tr>\n",
              "    <tr>\n",
              "      <th>2</th>\n",
              "      <td>0.818121</td>\n",
              "      <td>-0.408409</td>\n",
              "      <td>-1.230546</td>\n",
              "      <td>1.709158</td>\n",
              "      <td>1.591019</td>\n",
              "      <td>1.030478</td>\n",
              "      <td>-0.205769</td>\n",
              "      <td>0.312407</td>\n",
              "      <td>2.566689</td>\n",
              "      <td>0.889988</td>\n",
              "      <td>0</td>\n",
              "    </tr>\n",
              "    <tr>\n",
              "      <th>3</th>\n",
              "      <td>0.173130</td>\n",
              "      <td>-2.019461</td>\n",
              "      <td>-0.303312</td>\n",
              "      <td>0.222706</td>\n",
              "      <td>0.531745</td>\n",
              "      <td>-0.340094</td>\n",
              "      <td>0.186762</td>\n",
              "      <td>-3.133564</td>\n",
              "      <td>2.682247</td>\n",
              "      <td>2.633538</td>\n",
              "      <td>0</td>\n",
              "    </tr>\n",
              "    <tr>\n",
              "      <th>4</th>\n",
              "      <td>-1.075339</td>\n",
              "      <td>1.231863</td>\n",
              "      <td>-1.169158</td>\n",
              "      <td>-1.186858</td>\n",
              "      <td>-0.715022</td>\n",
              "      <td>3.330301</td>\n",
              "      <td>-1.028577</td>\n",
              "      <td>1.840620</td>\n",
              "      <td>1.002101</td>\n",
              "      <td>-1.151868</td>\n",
              "      <td>1</td>\n",
              "    </tr>\n",
              "  </tbody>\n",
              "</table>\n",
              "</div>"
            ],
            "text/plain": [
              "   Feature_1  Feature_2  Feature_3  Feature_4  Feature_5  Feature_6  \\\n",
              "0   2.365398  -2.405070   1.454530   0.635454   0.331485   0.255484   \n",
              "1   1.466359   1.431838   2.492688   1.662741   0.845526   2.768129   \n",
              "2   0.818121  -0.408409  -1.230546   1.709158   1.591019   1.030478   \n",
              "3   0.173130  -2.019461  -0.303312   0.222706   0.531745  -0.340094   \n",
              "4  -1.075339   1.231863  -1.169158  -1.186858  -0.715022   3.330301   \n",
              "\n",
              "   Feature_7  Feature_8  Feature_9  Feature_10  Target  \n",
              "0   0.141766  -1.884458  -1.619777    0.423212       0  \n",
              "1   1.151220  -1.278432  -0.076903   -0.721963       0  \n",
              "2  -0.205769   0.312407   2.566689    0.889988       0  \n",
              "3   0.186762  -3.133564   2.682247    2.633538       0  \n",
              "4  -1.028577   1.840620   1.002101   -1.151868       1  "
            ]
          },
          "execution_count": 7,
          "metadata": {},
          "output_type": "execute_result"
        }
      ],
      "source": [
        "\n",
        "\n",
        "df = pd.read_csv(\"classification_dataset.csv\")\n",
        "X = df.drop(\"Target\", axis=1)\n",
        "y = df[\"Target\"]\n",
        "\n",
        "df.head()"
      ]
    },
    {
      "cell_type": "code",
      "execution_count": 8,
      "metadata": {
        "id": "NpNecplC7saP"
      },
      "outputs": [
        {
          "name": "stdout",
          "output_type": "stream",
          "text": [
            "              precision    recall  f1-score   support\n",
            "\n",
            "           0       0.85      0.98      0.91        84\n",
            "           1       0.96      0.79      0.87        66\n",
            "\n",
            "    accuracy                           0.89       150\n",
            "   macro avg       0.91      0.88      0.89       150\n",
            "weighted avg       0.90      0.89      0.89       150\n",
            "\n",
            "[0.99 0.93 0.81 0.96 0.06 0.01 0.17 0.33 0.06 0.11 0.08 0.14 0.1  0.85\n",
            " 0.08 0.38 0.99 0.01 0.12 0.98 0.9  0.05 0.   0.9  0.19 0.21 0.97 0.26\n",
            " 0.42 0.32 0.79 0.94 0.1  0.91 0.16 0.52 0.11 1.   0.04 0.05 0.95 0.42\n",
            " 0.07 0.56 0.04 0.25 0.78 0.82 0.06 0.94 0.13 0.82 0.12 0.94 0.02 0.38\n",
            " 0.45 1.   0.96 0.16 0.79 0.94 0.99 0.38 0.88 0.86 0.18 0.24 0.92 0.02\n",
            " 0.23 0.45 0.41 0.35 0.93 0.   0.76 0.09 0.75 0.09 0.43 0.21 0.36 0.31\n",
            " 0.04 1.   0.02 0.04 0.99 0.54 0.79 0.2  0.74 0.87 0.4  0.94 0.43 0.95\n",
            " 0.04 0.05 0.49 0.92 0.08 0.05 0.18 0.21 0.1  0.   0.1  0.15 0.29 0.35\n",
            " 0.2  0.   0.72 0.07 0.41 0.15 0.75 0.1  0.07 0.18 0.32 0.27 0.87 0.19\n",
            " 0.93 0.62 0.02 0.1  0.24 0.09 0.73 0.11 0.94 0.14 0.95 0.99 0.48 0.18\n",
            " 0.58 0.17 0.44 0.12 0.96 0.13 0.29 0.94 0.35 0.14]\n"
          ]
        }
      ],
      "source": [
        "import pandas as pd\n",
        "import numpy as np\n",
        "import matplotlib.pyplot as plt\n",
        "import seaborn as sns\n",
        "from sklearn.ensemble import RandomForestClassifier\n",
        "\n",
        "from sklearn.metrics import classification_report\n",
        "\n",
        "from sklearn.model_selection import train_test_split\n",
        "\n",
        "# Define X and y\n",
        "X = df.drop(\"Target\", axis=1)\n",
        "y = df[\"Target\"]\n",
        "\n",
        "# Train your model\n",
        "X_train, X_test, y_train, y_test = train_test_split(X, y, test_size=0.3)\n",
        "\n",
        "model = RandomForestClassifier()\n",
        "\n",
        "model.fit(X_train, y_train)\n",
        "\n",
        "predictions = model.predict(X_test)\n",
        "\n",
        "print(classification_report(y_test, predictions))\n",
        "print(model.predict_proba(X_test)[:,1])\n",
        "\n"
      ]
    },
    {
      "cell_type": "code",
      "execution_count": 10,
      "metadata": {
        "id": "abgPScKr1D7T"
      },
      "outputs": [
        {
          "name": "stdout",
          "output_type": "stream",
          "text": [
            "              precision    recall  f1-score   support\n",
            "\n",
            "           0       0.87      0.93      0.90        76\n",
            "           1       0.93      0.85      0.89        74\n",
            "\n",
            "    accuracy                           0.89       150\n",
            "   macro avg       0.90      0.89      0.89       150\n",
            "weighted avg       0.90      0.89      0.89       150\n",
            "\n",
            "[0.14 0.03 0.06 0.06 0.82 0.   0.75 0.15 0.06 0.98 0.97 0.42 0.65 0.97\n",
            " 0.04 0.06 0.41 0.11 0.95 0.25 0.73 0.04 0.97 0.34 0.27 0.97 0.25 0.5\n",
            " 0.99 0.26 0.15 0.02 0.4  0.65 1.   0.87 0.04 0.87 0.9  0.75 0.92 0.98\n",
            " 0.02 0.43 0.99 0.   0.09 0.2  0.81 0.93 0.95 0.02 1.   0.95 0.98 0.03\n",
            " 0.98 0.93 0.26 0.07 0.98 0.38 1.   0.03 0.9  0.03 0.52 0.42 0.09 0.02\n",
            " 0.45 0.87 0.92 0.87 0.16 0.01 0.83 0.18 0.31 0.1  0.31 0.35 1.   0.07\n",
            " 0.7  0.03 0.98 0.89 0.9  0.79 0.95 0.01 0.9  0.97 0.06 0.04 0.04 0.24\n",
            " 0.02 0.92 0.34 0.03 0.86 0.08 0.29 0.73 0.9  0.9  0.04 0.91 0.73 0.78\n",
            " 0.04 0.95 0.65 0.27 0.06 0.74 0.39 0.8  0.07 0.67 0.17 0.   0.02 1.\n",
            " 0.1  0.45 0.72 0.87 0.09 0.09 0.97 0.   0.2  0.11 0.88 0.07 0.14 1.\n",
            " 0.96 0.12 0.03 0.2  0.06 0.99 0.84 0.98 0.08 0.5 ]\n",
            "Predictions for sample data: [1]\n"
          ]
        }
      ],
      "source": [
        "# Sample data for prediction (replace with your actual sample data)\n",
        "# This should have the same number of features as your training data (X)\n",
        "import pandas as pd\n",
        "import numpy as np\n",
        "import matplotlib.pyplot as plt\n",
        "import seaborn as sns\n",
        "from sklearn.ensemble import RandomForestClassifier\n",
        "\n",
        "from sklearn.metrics import classification_report\n",
        "\n",
        "from sklearn.model_selection import train_test_split\n",
        "\n",
        "# Define X and y\n",
        "X = df.drop(\"Target\", axis=1)\n",
        "y = df[\"Target\"]\n",
        "\n",
        "# Train your model\n",
        "X_train, X_test, y_train, y_test = train_test_split(X, y, test_size=0.3)\n",
        "\n",
        "model = RandomForestClassifier()\n",
        "\n",
        "model.fit(X_train, y_train)\n",
        "\n",
        "predictions = model.predict(X_test)\n",
        "\n",
        "print(classification_report(y_test, predictions))\n",
        "print(model.predict_proba(X_test)[:,1])\n",
        "import pandas as pd\n",
        "sample_data = [[1.0, 0.5, -0.2, 1.5, 0.1, -0.3, 0.8, -1.0, 0.2, 0.9]] # Example data\n",
        "\n",
        "# Convert sample data to a pandas DataFrame (important for consistency with training data)\n",
        "sample_df = pd.DataFrame(sample_data, columns=X_test.columns)\n",
        "\n",
        "# Make predictions on the sample data\n",
        "sample_predictions = model.predict(sample_df)\n",
        "\n",
        "# Print the predictions\n",
        "print(\"Predictions for sample data:\", sample_predictions)"
      ]
    },
    {
      "cell_type": "markdown",
      "metadata": {
        "id": "eac7088c"
      },
      "source": [
        "# Task\n",
        "Explain how to use sample data to predict after training a model, including preparing the data, making predictions, and interpreting the results."
      ]
    },
    {
      "cell_type": "markdown",
      "metadata": {
        "id": "550c9490"
      },
      "source": [
        "## Prepare sample data\n",
        "\n",
        "### Subtask:\n",
        "Create a pandas DataFrame with the new data you want to predict on. Ensure it has the same columns as your training data (X).\n"
      ]
    },
    {
      "cell_type": "markdown",
      "metadata": {
        "id": "a774bb2f"
      },
      "source": [
        "**Reasoning**:\n",
        "Create a pandas DataFrame from the sample data with the same columns as the training data.\n",
        "\n"
      ]
    },
    {
      "cell_type": "code",
      "execution_count": 11,
      "metadata": {
        "colab": {
          "base_uri": "https://localhost:8080/",
          "height": 89
        },
        "id": "d38d3036",
        "outputId": "e3a4b71a-0751-46b9-96b3-208cec6d3589"
      },
      "outputs": [
        {
          "name": "stdout",
          "output_type": "stream",
          "text": [
            "              precision    recall  f1-score   support\n",
            "\n",
            "           0       0.86      0.97      0.91        70\n",
            "           1       0.97      0.86      0.91        80\n",
            "\n",
            "    accuracy                           0.91       150\n",
            "   macro avg       0.92      0.92      0.91       150\n",
            "weighted avg       0.92      0.91      0.91       150\n",
            "\n",
            "[0.91 0.12 0.03 0.96 0.65 0.09 0.06 0.92 0.98 0.68 0.05 0.03 0.96 0.03\n",
            " 0.26 0.03 0.97 0.16 0.1  0.02 0.96 0.09 0.59 0.91 0.12 0.04 0.48 0.28\n",
            " 0.33 0.15 0.33 0.08 0.12 0.02 0.79 0.76 0.18 0.86 0.27 0.75 0.76 0.21\n",
            " 0.02 0.02 0.55 0.7  0.01 0.01 0.9  0.94 0.26 0.1  0.9  0.9  0.85 0.91\n",
            " 0.1  0.87 0.14 0.02 0.85 0.88 1.   0.7  0.12 0.07 0.38 0.9  0.83 0.37\n",
            " 0.93 0.06 0.08 0.23 0.69 0.03 1.   0.49 1.   0.04 0.75 0.69 0.95 0.38\n",
            " 1.   0.   0.87 0.93 0.26 0.34 0.85 0.84 0.11 0.92 0.82 0.8  0.2  0.35\n",
            " 0.28 0.9  0.86 0.89 0.27 0.01 0.72 0.02 0.44 0.5  0.   0.15 0.59 0.03\n",
            " 0.78 0.07 0.99 0.29 0.98 0.07 0.92 0.94 0.82 0.12 0.99 0.12 0.11 0.99\n",
            " 0.06 0.05 0.96 0.14 0.04 0.95 0.24 0.43 0.12 0.93 0.16 0.95 0.11 0.03\n",
            " 0.98 0.95 0.26 0.64 0.37 0.98 0.54 0.81 0.82 0.81]\n",
            "Predictions for sample data: [1]\n"
          ]
        },
        {
          "data": {
            "text/html": [
              "<div>\n",
              "<style scoped>\n",
              "    .dataframe tbody tr th:only-of-type {\n",
              "        vertical-align: middle;\n",
              "    }\n",
              "\n",
              "    .dataframe tbody tr th {\n",
              "        vertical-align: top;\n",
              "    }\n",
              "\n",
              "    .dataframe thead th {\n",
              "        text-align: right;\n",
              "    }\n",
              "</style>\n",
              "<table border=\"1\" class=\"dataframe\">\n",
              "  <thead>\n",
              "    <tr style=\"text-align: right;\">\n",
              "      <th></th>\n",
              "      <th>Feature_1</th>\n",
              "      <th>Feature_2</th>\n",
              "      <th>Feature_3</th>\n",
              "      <th>Feature_4</th>\n",
              "      <th>Feature_5</th>\n",
              "      <th>Feature_6</th>\n",
              "      <th>Feature_7</th>\n",
              "      <th>Feature_8</th>\n",
              "      <th>Feature_9</th>\n",
              "      <th>Feature_10</th>\n",
              "    </tr>\n",
              "  </thead>\n",
              "  <tbody>\n",
              "    <tr>\n",
              "      <th>0</th>\n",
              "      <td>1.0</td>\n",
              "      <td>0.5</td>\n",
              "      <td>-0.2</td>\n",
              "      <td>1.5</td>\n",
              "      <td>0.1</td>\n",
              "      <td>-0.3</td>\n",
              "      <td>0.8</td>\n",
              "      <td>-1.0</td>\n",
              "      <td>0.2</td>\n",
              "      <td>0.9</td>\n",
              "    </tr>\n",
              "  </tbody>\n",
              "</table>\n",
              "</div>"
            ],
            "text/plain": [
              "   Feature_1  Feature_2  Feature_3  Feature_4  Feature_5  Feature_6  \\\n",
              "0        1.0        0.5       -0.2        1.5        0.1       -0.3   \n",
              "\n",
              "   Feature_7  Feature_8  Feature_9  Feature_10  \n",
              "0        0.8       -1.0        0.2         0.9  "
            ]
          },
          "metadata": {},
          "output_type": "display_data"
        }
      ],
      "source": [
        "# Sample data for prediction (replace with your actual sample data)\n",
        "# This should have the same number of features as your training data (X)\n",
        "import pandas as pd\n",
        "import numpy as np\n",
        "import matplotlib.pyplot as plt\n",
        "import seaborn as sns\n",
        "from sklearn.ensemble import RandomForestClassifier\n",
        "\n",
        "from sklearn.metrics import classification_report\n",
        "\n",
        "from sklearn.model_selection import train_test_split\n",
        "\n",
        "# Define X and y\n",
        "X = df.drop(\"Target\", axis=1)\n",
        "y = df[\"Target\"]\n",
        "\n",
        "# Train your model\n",
        "X_train, X_test, y_train, y_test = train_test_split(X, y, test_size=0.3)\n",
        "\n",
        "model = RandomForestClassifier()\n",
        "\n",
        "model.fit(X_train, y_train)\n",
        "\n",
        "predictions = model.predict(X_test)\n",
        "\n",
        "print(classification_report(y_test, predictions))\n",
        "print(model.predict_proba(X_test)[:,1])\n",
        "import pandas as pd\n",
        "sample_data = [[1.0, 0.5, -0.2, 1.5, 0.1, -0.3, 0.8, -1.0, 0.2, 0.9]] # Example data\n",
        "\n",
        "# Convert sample data to a pandas DataFrame (important for consistency with training data)\n",
        "sample_df = pd.DataFrame(sample_data, columns=X_test.columns)\n",
        "\n",
        "# Make predictions on the sample data\n",
        "sample_predictions = model.predict(sample_df)\n",
        "\n",
        "# Print the predictions\n",
        "print(\"Predictions for sample data:\", sample_predictions)\n",
        "sample_data = [[1.0, 0.5, -0.2, 1.5, 0.1, -0.3, 0.8, -1.0, 0.2, 0.9]] # Example data\n",
        "\n",
        "# Convert sample data to a pandas DataFrame (important for consistency with training data)\n",
        "sample_df = pd.DataFrame(sample_data, columns=X.columns)\n",
        "\n",
        "# Display the sample DataFrame to verify\n",
        "display(sample_df)"
      ]
    },
    {
      "cell_type": "markdown",
      "metadata": {
        "id": "9b48ecaa"
      },
      "source": [
        "## Make predictions\n",
        "\n",
        "### Subtask:\n",
        "Use the trained model to make predictions on the sample data.\n"
      ]
    },
    {
      "cell_type": "markdown",
      "metadata": {
        "id": "f5161fee"
      },
      "source": [
        "**Reasoning**:\n",
        "Use the trained model to make predictions on the sample data and print the predictions.\n",
        "\n"
      ]
    },
    {
      "cell_type": "code",
      "execution_count": 16,
      "metadata": {
        "colab": {
          "base_uri": "https://localhost:8080/"
        },
        "id": "4bdf4b3c",
        "outputId": "9933776e-1ddd-42ea-81eb-a55219fdded6"
      },
      "outputs": [
        {
          "name": "stdout",
          "output_type": "stream",
          "text": [
            "Predictions for sample data: [1]\n"
          ]
        }
      ],
      "source": [
        "# Make predictions on the sample data\n",
        "sample_predictions = model.predict(sample_df)\n",
        "\n",
        "# Print the predictions\n",
        "print(\"Predictions for sample data:\", sample_predictions)"
      ]
    },
    {
      "cell_type": "markdown",
      "metadata": {
        "id": "9bdd56cb"
      },
      "source": [
        "## Interpret results\n",
        "\n",
        "### Subtask:\n",
        "Understand the output of the predictions.\n"
      ]
    },
    {
      "cell_type": "markdown",
      "metadata": {
        "id": "c7ff8622"
      },
      "source": [
        "**Reasoning**:\n",
        "Examine the output of `sample_predictions` and interpret its meaning in the context of the classification problem.\n",
        "\n"
      ]
    },
    {
      "cell_type": "code",
      "execution_count": 17,
      "metadata": {
        "colab": {
          "base_uri": "https://localhost:8080/"
        },
        "id": "97192269",
        "outputId": "b2430c2f-16ce-4b37-c669-3a7bfb42225d"
      },
      "outputs": [
        {
          "name": "stdout",
          "output_type": "stream",
          "text": [
            "The sample data point is predicted to belong to class: 1\n"
          ]
        }
      ],
      "source": [
        "print(\"The sample data point is predicted to belong to class:\", sample_predictions[0])"
      ]
    },
    {
      "cell_type": "markdown",
      "metadata": {
        "id": "48917ef3"
      },
      "source": [
        "## Summary:\n",
        "\n",
        "### Data Analysis Key Findings\n",
        "\n",
        "*   The sample data was successfully prepared as a pandas DataFrame with the same column structure as the training data.\n",
        "*   The trained model predicted the class label `[1]` for the sample data point.\n",
        "*   A predicted value of `1` for the sample data indicates that the model predicts the customer represented by this data point is likely to churn, assuming a binary classification where 1 represents churn.\n",
        "\n",
        "### Insights or Next Steps\n",
        "\n",
        "*   To gain more confidence in the prediction, investigate the features of the sample data point that contributed most to the prediction of class 1.\n",
        "*   For a real-world application, consider implementing a process to handle multiple new data points for prediction and evaluate model performance on new, unseen data over time.\n"
      ]
    },
    {
      "cell_type": "code",
      "execution_count": 1,
      "metadata": {},
      "outputs": [
        {
          "name": "stdout",
          "output_type": "stream",
          "text": [
            "Note: you may need to restart the kernel to use updated packages.\n"
          ]
        },
        {
          "name": "stderr",
          "output_type": "stream",
          "text": [
            "ERROR: Could not find a version that satisfies the requirement suprise (from versions: none)\n",
            "\n",
            "[notice] A new release of pip is available: 25.1.1 -> 25.2\n",
            "[notice] To update, run: python.exe -m pip install --upgrade pip\n",
            "ERROR: No matching distribution found for suprise\n"
          ]
        }
      ],
      "source": [
        "pip install suprise"
      ]
    }
  ],
  "metadata": {
    "colab": {
      "provenance": []
    },
    "kernelspec": {
      "display_name": "Python 3",
      "name": "python3"
    },
    "language_info": {
      "codemirror_mode": {
        "name": "ipython",
        "version": 3
      },
      "file_extension": ".py",
      "mimetype": "text/x-python",
      "name": "python",
      "nbconvert_exporter": "python",
      "pygments_lexer": "ipython3",
      "version": "3.13.5"
    }
  },
  "nbformat": 4,
  "nbformat_minor": 0
}
